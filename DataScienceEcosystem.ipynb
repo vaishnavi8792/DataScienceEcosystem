{
  "nbformat": 4,
  "nbformat_minor": 0,
  "metadata": {
    "colab": {
      "provenance": []
    },
    "kernelspec": {
      "name": "python3",
      "display_name": "Python 3"
    },
    "language_info": {
      "name": "python"
    }
  },
  "cells": [
    {
      "cell_type": "markdown",
      "source": [
        "# Data Science Tools and Ecosystem\n"
      ],
      "metadata": {
        "id": "XZjZQuOuWSXF"
      }
    },
    {
      "cell_type": "markdown",
      "source": [
        "In this notebook, Data Science Tools and Ecosystem are summarized.\n"
      ],
      "metadata": {
        "id": "nu6eFP_vWUdi"
      }
    },
    {
      "cell_type": "markdown",
      "source": [
        "Some of the popular languages that Data Scientists use are:\n",
        "1. Python\n",
        "2. R\n",
        "3. SQL\n"
      ],
      "metadata": {
        "id": "5CkInqMIWXhE"
      }
    },
    {
      "cell_type": "markdown",
      "source": [
        "Some of the commonly used libraries used by Data Scientists include:\n",
        "1. Pandas\n",
        "2. NumPy\n",
        "3. Matplotlib\n"
      ],
      "metadata": {
        "id": "GBsFNXUDWbIb"
      }
    },
    {
      "cell_type": "markdown",
      "source": [
        "| Data Science Tools |\n",
        "|-------------------|\n",
        "| Jupyter Notebook  |\n",
        "| RStudio           |\n",
        "| Apache Zeppelin   |\n"
      ],
      "metadata": {
        "id": "7LiYze3OWfGC"
      }
    },
    {
      "cell_type": "markdown",
      "source": [
        "### Below are a few examples of evaluating arithmetic expressions in Python.\n"
      ],
      "metadata": {
        "id": "lGcyPhigWgAa"
      }
    },
    {
      "cell_type": "code",
      "execution_count": 1,
      "metadata": {
        "colab": {
          "base_uri": "https://localhost:8080/"
        },
        "id": "gehAtiI-V3Rx",
        "outputId": "30976f2f-7309-45fe-90c3-3047d85768f0"
      },
      "outputs": [
        {
          "output_type": "execute_result",
          "data": {
            "text/plain": [
              "17"
            ]
          },
          "metadata": {},
          "execution_count": 1
        }
      ],
      "source": [
        "# This a simple arithmetic expression to multiply then add integers\n",
        "(3*4)+5\n"
      ]
    },
    {
      "cell_type": "code",
      "source": [
        "# This will convert 200 minutes to hours by dividing by 60\n",
        "200 / 60\n"
      ],
      "metadata": {
        "colab": {
          "base_uri": "https://localhost:8080/"
        },
        "id": "65uTEPOWWrc3",
        "outputId": "f157fdc9-0d3a-4535-f2ff-3ddd16ed64eb"
      },
      "execution_count": 2,
      "outputs": [
        {
          "output_type": "execute_result",
          "data": {
            "text/plain": [
              "3.3333333333333335"
            ]
          },
          "metadata": {},
          "execution_count": 2
        }
      ]
    },
    {
      "cell_type": "markdown",
      "source": [
        "**Objectives:**\n",
        "- List popular languages for Data Science\n",
        "- List commonly used libraries for Data Science\n",
        "- Create tables in markdown\n",
        "- Demonstrate simple arithmetic expressions in Python\n",
        "- Share Jupyter Notebooks through GitHub\n"
      ],
      "metadata": {
        "id": "2sf5qzUEWu2E"
      }
    },
    {
      "cell_type": "markdown",
      "source": [
        "## Author\n",
        "VAISHNAVI R\n"
      ],
      "metadata": {
        "id": "kt9uMf9eWxvc"
      }
    }
  ]
}